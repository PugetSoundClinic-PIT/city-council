{
 "cells": [
  {
   "cell_type": "code",
   "execution_count": 1,
   "metadata": {},
   "outputs": [
    {
     "name": "stderr",
     "output_type": "stream",
     "text": [
      "/Users/evamaxfield/micromamba/envs/city-council/lib/python3.10/site-packages/tqdm/auto.py:21: TqdmWarning: IProgress not found. Please update jupyter and ipywidgets. See https://ipywidgets.readthedocs.io/en/stable/user_install.html\n",
      "  from .autonotebook import tqdm as notebook_tqdm\n",
      "Fetching each model attached to event_ref: 100%|██████████| 50/50 [00:01<00:00, 35.67it/s]\n",
      "Fetching transcripts: 100%|██████████| 50/50 [00:01<00:00, 30.62it/s]\n",
      "Converting transcripts: 100%|██████████| 50/50 [00:01<00:00, 30.16it/s]\n"
     ]
    }
   ],
   "source": [
    "from cdp_data import datasets, CDPInstances\n",
    "import numpy as np\n",
    "from pathlib import Path\n",
    "import pandas as pd\n",
    "\n",
    "# Set randomness\n",
    "np.random.seed(60)\n",
    "\n",
    "# Get random 200 from Seattle\n",
    "ds = datasets.get_session_dataset(\n",
    "    CDPInstances.Richmond,\n",
    "    store_transcript=True,\n",
    "    store_transcript_as_csv=True,\n",
    "    start_datetime=\"2020-01-01\",\n",
    "    end_datetime=\"2024-01-01\",\n",
    "    sample=50,\n",
    ")\n",
    "\n",
    "# overall directory for saving\n",
    "storage_dir = Path(\"transcripts/\")\n",
    "storage_dir.mkdir(exist_ok=True)\n",
    "\n",
    "# iter sessions \n",
    "for _, row in ds.iterrows():\n",
    "    # create the copy path\n",
    "    transcript_copy_path = storage_dir / f\"{row['id']}.csv\"\n",
    "\n",
    "    # read the original transcript\n",
    "    transcript = pd.read_csv(row.transcript_as_csv_path)\n",
    "\n",
    "    # keep only the index and text columns\n",
    "    transcript = transcript[[\n",
    "        \"index\",\n",
    "        \"text\",\n",
    "    ]]\n",
    "\n",
    "    # rename index to sentence_index\n",
    "    transcript = transcript.rename(columns={\"index\": \"sentence_index\"})\n",
    "\n",
    "    # add column for session id\n",
    "    transcript[\"session_id\"] = row[\"id\"]\n",
    "\n",
    "    # add column for council\n",
    "    transcript[\"council\"] = CDPInstances.Richmond\n",
    "\n",
    "    # save the modified transcript\n",
    "    transcript.to_csv(transcript_copy_path, index=False)"
   ]
  }
 ],
 "metadata": {
  "kernelspec": {
   "display_name": "Python 3 (ipykernel)",
   "language": "python",
   "name": "python3"
  },
  "language_info": {
   "codemirror_mode": {
    "name": "ipython",
    "version": 3
   },
   "file_extension": ".py",
   "mimetype": "text/x-python",
   "name": "python",
   "nbconvert_exporter": "python",
   "pygments_lexer": "ipython3",
   "version": "3.10.13"
  }
 },
 "nbformat": 4,
 "nbformat_minor": 4
}
